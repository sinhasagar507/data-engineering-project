{
 "cells": [
  {
   "cell_type": "code",
   "execution_count": 1,
   "id": "3307b886",
   "metadata": {},
   "outputs": [
    {
     "name": "stderr",
     "output_type": "stream",
     "text": [
      "25/01/27 20:37:59 WARN Utils: Your hostname, Sagars-MacBook-Pro.local resolves to a loopback address: 127.0.0.1; using 192.168.0.66 instead (on interface en0)\n",
      "25/01/27 20:37:59 WARN Utils: Set SPARK_LOCAL_IP if you need to bind to another address\n",
      "Setting default log level to \"WARN\".\n",
      "To adjust logging level use sc.setLogLevel(newLevel). For SparkR, use setLogLevel(newLevel).\n",
      "25/01/27 20:38:00 WARN NativeCodeLoader: Unable to load native-hadoop library for your platform... using builtin-java classes where applicable\n",
      "25/01/27 20:38:00 WARN Utils: Service 'SparkUI' could not bind on port 4040. Attempting port 4041.\n",
      "25/01/27 20:38:00 WARN Utils: Service 'SparkUI' could not bind on port 4041. Attempting port 4042.\n"
     ]
    },
    {
     "name": "stderr",
     "output_type": "stream",
     "text": [
      "25/01/27 20:38:11 WARN GarbageCollectionMetrics: To enable non-built-in garbage collector(s) List(G1 Concurrent GC), users should configure it(them) to spark.eventLog.gcMetrics.youngGenerationGarbageCollectors or spark.eventLog.gcMetrics.oldGenerationGarbageCollectors\n"
     ]
    }
   ],
   "source": [
    "import pyspark\n",
    "from pyspark.sql import SparkSession\n",
    "\n",
    "spark = SparkSession.builder \\\n",
    "    .master(\"local[*]\") \\\n",
    "    .appName('test') \\\n",
    "    .getOrCreate()"
   ]
  },
  {
   "cell_type": "code",
   "execution_count": 26,
   "id": "024a4e17",
   "metadata": {},
   "outputs": [
    {
     "name": "stdout",
     "output_type": "stream",
     "text": [
      "Spark UI is running at: http://192.168.0.66:4042\n"
     ]
    }
   ],
   "source": [
    "# Get the Spark session's web UI address\n",
    "spark_ui_url = spark.sparkContext.uiWebUrl\n",
    "print(f\"Spark UI is running at: {spark_ui_url}\")"
   ]
  },
  {
   "cell_type": "code",
   "execution_count": 3,
   "id": "1ee1eb1d",
   "metadata": {},
   "outputs": [
    {
     "name": "stdout",
     "output_type": "stream",
     "text": [
      "+--------+--------------------+---------------------+------------------+----------+------------+------------+---------------+-------------+-----------+-----+-------+----------+------------+---------+---------------------+------------+------------+---------+--------------------+\n",
      "|VendorID|lpep_pickup_datetime|lpep_dropoff_datetime|store_and_fwd_flag|RatecodeID|PULocationID|DOLocationID|passenger_count|trip_distance|fare_amount|extra|mta_tax|tip_amount|tolls_amount|ehail_fee|improvement_surcharge|total_amount|payment_type|trip_type|congestion_surcharge|\n",
      "+--------+--------------------+---------------------+------------------+----------+------------+------------+---------------+-------------+-----------+-----+-------+----------+------------+---------+---------------------+------------+------------+---------+--------------------+\n",
      "|       2| 2020-01-10 21:05:54|  2020-01-10 21:13:49|                 N|       1.0|         129|         129|            1.0|         0.81|        6.5|  0.5|    0.5|      0.71|         0.0|     NULL|                  0.3|        8.51|         1.0|      1.0|                 0.0|\n",
      "|       2| 2020-01-17 12:33:05|  2020-01-17 12:51:08|                 N|       1.0|          75|          42|            3.0|         2.69|       13.5|  1.0|    0.5|      3.06|         0.0|     NULL|                  0.3|       18.36|         1.0|      1.0|                 0.0|\n",
      "|       2| 2020-01-30 05:41:00|  2020-01-30 06:30:00|              NULL|      NULL|         117|         188|           NULL|        13.11|      38.57| 2.75|    0.0|       0.0|        2.29|     NULL|                  0.3|       43.91|        NULL|     NULL|                NULL|\n",
      "|       2| 2020-01-11 14:25:44|  2020-01-11 14:40:11|                 N|       1.0|          41|         151|            1.0|         2.13|       11.0|  0.5|    0.5|       0.0|         0.0|     NULL|                  0.3|        12.3|         2.0|      1.0|                 0.0|\n",
      "|       2| 2020-01-04 14:45:19|  2020-01-04 14:52:57|                 N|       1.0|         129|         260|            1.0|         0.89|        6.5|  0.5|    0.5|       0.0|         0.0|     NULL|                  0.3|         7.8|         2.0|      1.0|                 0.0|\n",
      "|       2| 2020-01-15 12:07:07|  2020-01-15 12:12:56|                 N|       1.0|          75|          75|            1.0|         0.88|        5.5|  1.0|    0.5|      1.46|         0.0|     NULL|                  0.3|        8.76|         1.0|      1.0|                 0.0|\n",
      "|       2| 2020-01-10 17:01:17|  2020-01-10 17:10:14|                 N|       1.0|          66|         232|            1.0|         2.25|        9.5|  0.5|    0.5|      2.71|         0.0|     NULL|                  0.3|       16.26|         1.0|      1.0|                2.75|\n",
      "|       2| 2020-01-16 07:54:30|  2020-01-16 08:00:39|                 N|       1.0|         129|         129|            2.0|         0.91|        6.0|  0.0|    0.5|       0.0|         0.0|     NULL|                  0.3|         6.8|         2.0|      1.0|                 0.0|\n",
      "|       2| 2020-01-01 12:53:32|  2020-01-01 13:05:59|                 N|       1.0|          41|         168|            5.0|         2.69|       11.0|  0.0|    0.5|       0.0|         0.0|     NULL|                  0.3|        11.8|         2.0|      1.0|                 0.0|\n",
      "|       2| 2020-01-20 23:53:00|  2020-01-21 00:24:00|              NULL|      NULL|          37|          33|           NULL|         5.35|      30.99| 2.75|    0.0|       0.0|         0.0|     NULL|                  0.3|       34.04|        NULL|     NULL|                NULL|\n",
      "|       2| 2020-01-19 05:18:31|  2020-01-19 05:23:29|                 N|       1.0|         129|         129|            1.0|         0.58|        5.0|  0.0|    0.5|       0.0|         0.0|     NULL|                  0.3|         5.8|         2.0|      1.0|                 0.0|\n",
      "|       2| 2020-01-12 03:38:00|  2020-01-12 03:56:00|              NULL|      NULL|          51|          60|           NULL|         7.83|      27.65| 2.75|    0.0|       0.0|         0.0|     NULL|                  0.3|        30.7|        NULL|     NULL|                NULL|\n",
      "|       1| 2020-01-04 06:39:34|  2020-01-04 06:43:59|                 N|       1.0|         255|         255|            1.0|          0.5|        5.0|  0.0|    0.5|       0.0|         0.0|     NULL|                  0.3|         5.8|         2.0|      1.0|                 0.0|\n",
      "|       1| 2020-01-27 07:50:40|  2020-01-27 07:56:26|                 N|       1.0|          95|          95|            1.0|          0.9|        6.0|  0.0|    0.5|      1.35|         0.0|     NULL|                  0.3|        8.15|         1.0|      1.0|                 0.0|\n",
      "|       2| 2020-01-20 01:41:00|  2020-01-20 02:25:00|              NULL|      NULL|          86|         140|           NULL|        23.88|      67.67| 2.75|    0.0|       0.0|        6.12|     NULL|                  0.3|       76.84|        NULL|     NULL|                NULL|\n",
      "|       2| 2020-01-07 06:39:00|  2020-01-07 06:52:00|              NULL|      NULL|          82|          56|           NULL|         1.96|      15.89| 2.75|    0.0|       0.0|         0.0|     NULL|                  0.3|       18.94|        NULL|     NULL|                NULL|\n",
      "|       1| 2020-01-25 03:04:57|  2020-01-25 03:12:57|                 N|       5.0|         182|         213|            1.0|          0.0|        8.0|  0.0|    0.0|       0.0|         0.0|     NULL|                  0.0|         8.0|         2.0|      2.0|                 0.0|\n",
      "|       2| 2020-01-03 09:29:05|  2020-01-03 09:39:03|                 N|       1.0|           7|         223|            1.0|         1.43|        8.5|  1.0|    0.5|       0.0|         0.0|     NULL|                  0.3|        10.3|         2.0|      1.0|                 0.0|\n",
      "|       2| 2020-01-09 16:33:28|  2020-01-09 16:38:47|                 N|       1.0|         255|         256|            1.0|         0.85|        5.5|  0.5|    0.5|       0.0|         0.0|     NULL|                  0.3|         6.8|         2.0|      1.0|                 0.0|\n",
      "|       2| 2020-01-03 16:16:25|  2020-01-03 16:30:25|                 N|       5.0|          69|         247|            1.0|         2.41|       15.0|  0.0|    0.0|       0.0|         0.0|     NULL|                  0.3|        15.3|         2.0|      2.0|                 0.0|\n",
      "+--------+--------------------+---------------------+------------------+----------+------------+------------+---------------+-------------+-----------+-----+-------+----------+------------+---------+---------------------+------------+------------+---------+--------------------+\n",
      "only showing top 20 rows\n",
      "\n"
     ]
    }
   ],
   "source": [
    "df_green = spark.read.parquet('data/pq/green/*/*')\n",
    "df_green.show()"
   ]
  },
  {
   "cell_type": "code",
   "execution_count": 5,
   "id": "649bb4da",
   "metadata": {},
   "outputs": [],
   "source": [
    "df_green = df_green \\\n",
    "    .withColumnRenamed('lpep_pickup_datetime', 'pickup_datetime') \\\n",
    "    .withColumnRenamed('lpep_dropoff_datetime', 'dropoff_datetime')"
   ]
  },
  {
   "cell_type": "code",
   "execution_count": 4,
   "id": "90cd6845",
   "metadata": {},
   "outputs": [
    {
     "name": "stdout",
     "output_type": "stream",
     "text": [
      "+--------+--------------------+---------------------+---------------+-------------+----------+------------------+------------+------------+------------+-----------+-----+-------+----------+------------+---------------------+------------+--------------------+\n",
      "|VendorID|tpep_pickup_datetime|tpep_dropoff_datetime|passenger_count|trip_distance|RatecodeID|store_and_fwd_flag|PULocationID|DOLocationID|payment_type|fare_amount|extra|mta_tax|tip_amount|tolls_amount|improvement_surcharge|total_amount|congestion_surcharge|\n",
      "+--------+--------------------+---------------------+---------------+-------------+----------+------------------+------------+------------+------------+-----------+-----+-------+----------+------------+---------------------+------------+--------------------+\n",
      "|       1| 2020-01-20 02:54:08|  2020-01-20 02:56:35|            2.0|          0.5|       1.0|                 N|         249|         158|           1|        4.0|  2.5|    0.5|       1.8|         0.0|                  0.3|         9.1|                 2.5|\n",
      "|       2| 2020-01-25 02:14:49|  2020-01-25 02:16:21|            1.0|         0.49|       1.0|                 N|         229|         237|           1|        3.5|  0.0|    0.5|      1.36|         0.0|                  0.3|        8.16|                 2.5|\n",
      "|       1| 2020-01-31 13:07:37|  2020-01-31 13:30:28|            2.0|          5.9|       1.0|                 N|          13|         239|           1|       21.5|  3.0|    0.5|       3.8|         0.0|                  0.3|        29.1|                 2.5|\n",
      "|       2| 2020-01-23 13:30:23|  2020-01-23 13:34:54|            1.0|         0.99|       1.0|                 N|         264|         264|           1|        5.5|  0.5|    0.5|       1.4|         0.0|                  0.3|        10.7|                 2.5|\n",
      "|       2| 2020-01-26 16:14:15|  2020-01-26 16:21:41|            2.0|         1.35|       1.0|                 N|         100|         163|           1|        7.0|  0.5|    0.5|      2.16|         0.0|                  0.3|       12.96|                 2.5|\n",
      "|       1| 2020-01-19 03:10:55|  2020-01-19 03:19:17|            1.0|          2.0|       1.0|                 N|         142|         151|           2|        9.0|  2.5|    0.5|       0.0|         0.0|                  0.3|        12.3|                 2.5|\n",
      "|       2| 2020-01-14 07:47:24|  2020-01-14 08:32:07|            2.0|        13.73|       1.0|                 N|         132|         129|           2|       42.0|  0.0|    0.5|       0.0|         0.0|                  0.3|        42.8|                 0.0|\n",
      "|       1| 2020-01-13 12:00:43|  2020-01-13 12:06:02|            2.0|          0.6|       1.0|                 N|         141|         141|           2|        5.5|  3.5|    0.5|       0.0|         0.0|                  0.3|         9.8|                 2.5|\n",
      "|       1| 2019-12-31 21:26:20|  2019-12-31 21:38:29|            2.0|          2.8|       1.0|                 N|         246|         229|           1|       11.0|  3.0|    0.5|      2.95|         0.0|                  0.3|       17.75|                 2.5|\n",
      "|       1| 2020-01-06 02:37:38|  2020-01-06 02:49:37|            1.0|          0.7|       1.0|                 N|         162|         237|           1|        8.5|  2.5|    0.5|       2.0|         0.0|                  0.3|        13.8|                 2.5|\n",
      "|       2| 2020-01-01 05:22:47|  2020-01-01 05:29:51|            1.0|         1.36|       1.0|                 N|         170|         161|           2|        7.0|  0.0|    0.5|       0.0|         0.0|                  0.3|        10.3|                 2.5|\n",
      "|       2| 2020-01-10 05:35:17|  2020-01-10 05:41:25|            1.0|         0.62|       1.0|                 N|         239|         143|           2|        5.5|  0.0|    0.5|       0.0|         0.0|                  0.3|         8.8|                 2.5|\n",
      "|       2| 2020-01-20 06:10:40|  2020-01-20 06:18:19|            1.0|         0.63|       1.0|                 N|          79|         144|           2|        6.0|  0.0|    0.5|       0.0|         0.0|                  0.3|         9.3|                 2.5|\n",
      "|       1| 2020-01-18 11:56:10|  2020-01-18 12:01:43|            1.0|          1.0|       1.0|                 N|          24|         166|           2|        6.0|  0.0|    0.5|       0.0|         0.0|                  0.3|         6.8|                 0.0|\n",
      "|       1| 2020-01-22 06:51:19|  2020-01-22 07:05:21|            1.0|          1.4|       1.0|                 N|         224|         249|           2|       10.0|  2.5|    0.5|       0.0|         0.0|                  0.3|        13.3|                 2.5|\n",
      "|       1| 2020-01-28 10:48:40|  2020-01-28 10:53:16|            1.0|          0.5|       1.0|                 N|         162|         161|           1|        4.5|  3.5|    0.5|       2.2|         0.0|                  0.3|        11.0|                 2.5|\n",
      "|       2| 2020-01-25 06:55:18|  2020-01-25 07:05:34|            1.0|         1.37|       1.0|                 N|         263|         141|           1|        8.0|  0.0|    0.5|      2.26|         0.0|                  0.3|       13.56|                 2.5|\n",
      "|       2| 2020-01-03 04:34:34|  2020-01-03 04:42:21|            1.0|         1.39|       1.0|                 N|         186|         230|           1|        7.5|  0.0|    0.5|      3.24|         0.0|                  0.3|       14.04|                 2.5|\n",
      "|       2| 2020-01-17 18:17:42|  2020-01-17 18:22:05|            4.0|         0.53|       1.0|                 N|          48|         230|           1|        4.5|  0.5|    0.5|      2.49|         0.0|                  0.3|       10.79|                 2.5|\n",
      "|       2| 2020-01-11 05:11:54|  2020-01-11 05:25:02|            1.0|         2.12|       1.0|                 N|         238|         262|           1|       10.5|  0.0|    0.5|      4.14|         0.0|                  0.3|       17.94|                 2.5|\n",
      "+--------+--------------------+---------------------+---------------+-------------+----------+------------------+------------+------------+------------+-----------+-----+-------+----------+------------+---------------------+------------+--------------------+\n",
      "only showing top 20 rows\n",
      "\n"
     ]
    }
   ],
   "source": [
    "df_yellow = spark.read.parquet('data/pq/yellow/*/*')\n",
    "df_yellow.show()"
   ]
  },
  {
   "cell_type": "code",
   "execution_count": 6,
   "id": "88822efd",
   "metadata": {},
   "outputs": [],
   "source": [
    "df_yellow = df_yellow \\\n",
    "    .withColumnRenamed('tpep_pickup_datetime', 'pickup_datetime') \\\n",
    "    .withColumnRenamed('tpep_dropoff_datetime', 'dropoff_datetime')"
   ]
  },
  {
   "cell_type": "code",
   "execution_count": 7,
   "id": "610167a2",
   "metadata": {},
   "outputs": [],
   "source": [
    "common_colums = []\n",
    "\n",
    "yellow_columns = set(df_yellow.columns)\n",
    "\n",
    "for col in df_green.columns:\n",
    "    if col in yellow_columns:\n",
    "        common_colums.append(col)"
   ]
  },
  {
   "cell_type": "code",
   "execution_count": 9,
   "id": "f72e320b",
   "metadata": {},
   "outputs": [
    {
     "data": {
      "text/plain": [
       "['VendorID',\n",
       " 'pickup_datetime',\n",
       " 'dropoff_datetime',\n",
       " 'store_and_fwd_flag',\n",
       " 'RatecodeID',\n",
       " 'PULocationID',\n",
       " 'DOLocationID',\n",
       " 'passenger_count',\n",
       " 'trip_distance',\n",
       " 'fare_amount',\n",
       " 'extra',\n",
       " 'mta_tax',\n",
       " 'tip_amount',\n",
       " 'tolls_amount',\n",
       " 'improvement_surcharge',\n",
       " 'total_amount',\n",
       " 'payment_type',\n",
       " 'congestion_surcharge']"
      ]
     },
     "execution_count": 9,
     "metadata": {},
     "output_type": "execute_result"
    }
   ],
   "source": [
    "common_colums"
   ]
  },
  {
   "cell_type": "code",
   "execution_count": 11,
   "id": "68565c9d",
   "metadata": {},
   "outputs": [
    {
     "name": "stdout",
     "output_type": "stream",
     "text": [
      "+--------+-------------------+-------------------+------------------+----------+------------+------------+---------------+-------------+-----------+-----+-------+----------+------------+---------------------+------------+------------+--------------------+\n",
      "|VendorID|    pickup_datetime|   dropoff_datetime|store_and_fwd_flag|RatecodeID|PULocationID|DOLocationID|passenger_count|trip_distance|fare_amount|extra|mta_tax|tip_amount|tolls_amount|improvement_surcharge|total_amount|payment_type|congestion_surcharge|\n",
      "+--------+-------------------+-------------------+------------------+----------+------------+------------+---------------+-------------+-----------+-----+-------+----------+------------+---------------------+------------+------------+--------------------+\n",
      "|       2|2020-01-10 21:05:54|2020-01-10 21:13:49|                 N|       1.0|         129|         129|            1.0|         0.81|        6.5|  0.5|    0.5|      0.71|         0.0|                  0.3|        8.51|         1.0|                 0.0|\n",
      "|       2|2020-01-17 12:33:05|2020-01-17 12:51:08|                 N|       1.0|          75|          42|            3.0|         2.69|       13.5|  1.0|    0.5|      3.06|         0.0|                  0.3|       18.36|         1.0|                 0.0|\n",
      "|       2|2020-01-30 05:41:00|2020-01-30 06:30:00|              NULL|      NULL|         117|         188|           NULL|        13.11|      38.57| 2.75|    0.0|       0.0|        2.29|                  0.3|       43.91|        NULL|                NULL|\n",
      "|       2|2020-01-11 14:25:44|2020-01-11 14:40:11|                 N|       1.0|          41|         151|            1.0|         2.13|       11.0|  0.5|    0.5|       0.0|         0.0|                  0.3|        12.3|         2.0|                 0.0|\n",
      "|       2|2020-01-04 14:45:19|2020-01-04 14:52:57|                 N|       1.0|         129|         260|            1.0|         0.89|        6.5|  0.5|    0.5|       0.0|         0.0|                  0.3|         7.8|         2.0|                 0.0|\n",
      "|       2|2020-01-15 12:07:07|2020-01-15 12:12:56|                 N|       1.0|          75|          75|            1.0|         0.88|        5.5|  1.0|    0.5|      1.46|         0.0|                  0.3|        8.76|         1.0|                 0.0|\n",
      "|       2|2020-01-10 17:01:17|2020-01-10 17:10:14|                 N|       1.0|          66|         232|            1.0|         2.25|        9.5|  0.5|    0.5|      2.71|         0.0|                  0.3|       16.26|         1.0|                2.75|\n",
      "|       2|2020-01-16 07:54:30|2020-01-16 08:00:39|                 N|       1.0|         129|         129|            2.0|         0.91|        6.0|  0.0|    0.5|       0.0|         0.0|                  0.3|         6.8|         2.0|                 0.0|\n",
      "|       2|2020-01-01 12:53:32|2020-01-01 13:05:59|                 N|       1.0|          41|         168|            5.0|         2.69|       11.0|  0.0|    0.5|       0.0|         0.0|                  0.3|        11.8|         2.0|                 0.0|\n",
      "|       2|2020-01-20 23:53:00|2020-01-21 00:24:00|              NULL|      NULL|          37|          33|           NULL|         5.35|      30.99| 2.75|    0.0|       0.0|         0.0|                  0.3|       34.04|        NULL|                NULL|\n",
      "|       2|2020-01-19 05:18:31|2020-01-19 05:23:29|                 N|       1.0|         129|         129|            1.0|         0.58|        5.0|  0.0|    0.5|       0.0|         0.0|                  0.3|         5.8|         2.0|                 0.0|\n",
      "|       2|2020-01-12 03:38:00|2020-01-12 03:56:00|              NULL|      NULL|          51|          60|           NULL|         7.83|      27.65| 2.75|    0.0|       0.0|         0.0|                  0.3|        30.7|        NULL|                NULL|\n",
      "|       1|2020-01-04 06:39:34|2020-01-04 06:43:59|                 N|       1.0|         255|         255|            1.0|          0.5|        5.0|  0.0|    0.5|       0.0|         0.0|                  0.3|         5.8|         2.0|                 0.0|\n",
      "|       1|2020-01-27 07:50:40|2020-01-27 07:56:26|                 N|       1.0|          95|          95|            1.0|          0.9|        6.0|  0.0|    0.5|      1.35|         0.0|                  0.3|        8.15|         1.0|                 0.0|\n",
      "|       2|2020-01-20 01:41:00|2020-01-20 02:25:00|              NULL|      NULL|          86|         140|           NULL|        23.88|      67.67| 2.75|    0.0|       0.0|        6.12|                  0.3|       76.84|        NULL|                NULL|\n",
      "|       2|2020-01-07 06:39:00|2020-01-07 06:52:00|              NULL|      NULL|          82|          56|           NULL|         1.96|      15.89| 2.75|    0.0|       0.0|         0.0|                  0.3|       18.94|        NULL|                NULL|\n",
      "|       1|2020-01-25 03:04:57|2020-01-25 03:12:57|                 N|       5.0|         182|         213|            1.0|          0.0|        8.0|  0.0|    0.0|       0.0|         0.0|                  0.0|         8.0|         2.0|                 0.0|\n",
      "|       2|2020-01-03 09:29:05|2020-01-03 09:39:03|                 N|       1.0|           7|         223|            1.0|         1.43|        8.5|  1.0|    0.5|       0.0|         0.0|                  0.3|        10.3|         2.0|                 0.0|\n",
      "|       2|2020-01-09 16:33:28|2020-01-09 16:38:47|                 N|       1.0|         255|         256|            1.0|         0.85|        5.5|  0.5|    0.5|       0.0|         0.0|                  0.3|         6.8|         2.0|                 0.0|\n",
      "|       2|2020-01-03 16:16:25|2020-01-03 16:30:25|                 N|       5.0|          69|         247|            1.0|         2.41|       15.0|  0.0|    0.0|       0.0|         0.0|                  0.3|        15.3|         2.0|                 0.0|\n",
      "+--------+-------------------+-------------------+------------------+----------+------------+------------+---------------+-------------+-----------+-----+-------+----------+------------+---------------------+------------+------------+--------------------+\n",
      "only showing top 20 rows\n",
      "\n"
     ]
    }
   ],
   "source": [
    "df_green.select(common_colums).show()"
   ]
  },
  {
   "cell_type": "code",
   "execution_count": 12,
   "id": "839d773f",
   "metadata": {},
   "outputs": [],
   "source": [
    "from pyspark.sql import functions as F"
   ]
  },
  {
   "cell_type": "code",
   "execution_count": 16,
   "id": "2498810a",
   "metadata": {},
   "outputs": [],
   "source": [
    "from pyspark.sql import functions as F\n",
    "\n",
    "# Select only the common columns from the DataFrame\n",
    "df_green_sel = df_green \\\n",
    "    .select(common_colums)\\\n",
    "    .withColumn('service_type', F.lit('green'))  \n",
    "\n",
    "    # Keep only the columns specified `common_colums`\n",
    "    # Add a new column `service_type` with a constant value 'green' for every row\n",
    "    "
   ]
  },
  {
   "cell_type": "code",
   "execution_count": 17,
   "id": "19032efc",
   "metadata": {},
   "outputs": [],
   "source": [
    "# Do the same thing with 'yellow' dataframe\n",
    "df_yellow_sel = df_yellow \\\n",
    "    .select(common_colums) \\\n",
    "    .withColumn('service_type', F.lit('yellow'))"
   ]
  },
  {
   "cell_type": "code",
   "execution_count": 18,
   "id": "f5b0f3d1",
   "metadata": {},
   "outputs": [],
   "source": [
    "df_trips_data = df_green_sel.unionAll(df_yellow_sel)"
   ]
  },
  {
   "cell_type": "code",
   "execution_count": 19,
   "id": "1bed8b33",
   "metadata": {},
   "outputs": [
    {
     "name": "stderr",
     "output_type": "stream",
     "text": [
      "[Stage 6:============================================>            (21 + 6) / 27]\r"
     ]
    },
    {
     "name": "stdout",
     "output_type": "stream",
     "text": [
      "+------------+--------+\n",
      "|service_type|   count|\n",
      "+------------+--------+\n",
      "|       green| 2802931|\n",
      "|      yellow|55553400|\n",
      "+------------+--------+\n",
      "\n"
     ]
    },
    {
     "name": "stderr",
     "output_type": "stream",
     "text": [
      "                                                                                \r"
     ]
    }
   ],
   "source": [
    "df_trips_data.groupBy('service_type').count().show()"
   ]
  },
  {
   "cell_type": "code",
   "execution_count": 20,
   "id": "28cc8fa3",
   "metadata": {},
   "outputs": [
    {
     "data": {
      "text/plain": [
       "['VendorID',\n",
       " 'pickup_datetime',\n",
       " 'dropoff_datetime',\n",
       " 'store_and_fwd_flag',\n",
       " 'RatecodeID',\n",
       " 'PULocationID',\n",
       " 'DOLocationID',\n",
       " 'passenger_count',\n",
       " 'trip_distance',\n",
       " 'fare_amount',\n",
       " 'extra',\n",
       " 'mta_tax',\n",
       " 'tip_amount',\n",
       " 'tolls_amount',\n",
       " 'improvement_surcharge',\n",
       " 'total_amount',\n",
       " 'payment_type',\n",
       " 'congestion_surcharge',\n",
       " 'service_type']"
      ]
     },
     "execution_count": 20,
     "metadata": {},
     "output_type": "execute_result"
    }
   ],
   "source": [
    "df_trips_data.columns"
   ]
  },
  {
   "cell_type": "code",
   "execution_count": 21,
   "id": "36e90cbc",
   "metadata": {},
   "outputs": [
    {
     "name": "stderr",
     "output_type": "stream",
     "text": [
      "/Applications/saggydev/projects_learning/data_engineering_course/.venv/lib/python3.9/site-packages/pyspark/sql/dataframe.py:329: FutureWarning: Deprecated in 2.0, use createOrReplaceTempView instead.\n",
      "  warnings.warn(\"Deprecated in 2.0, use createOrReplaceTempView instead.\", FutureWarning)\n"
     ]
    }
   ],
   "source": [
    "df_trips_data.registerTempTable('trips_data') # first the pyspark table has to be registered as a template, then ONLY I can perform SQL executions ON it"
   ]
  },
  {
   "cell_type": "code",
   "execution_count": 22,
   "id": "d0e01bf1",
   "metadata": {},
   "outputs": [
    {
     "name": "stderr",
     "output_type": "stream",
     "text": [
      "[Stage 9:===============================>                        (15 + 11) / 27]\r"
     ]
    },
    {
     "name": "stdout",
     "output_type": "stream",
     "text": [
      "+------------+--------+\n",
      "|service_type|count(1)|\n",
      "+------------+--------+\n",
      "|       green| 2802931|\n",
      "|      yellow|55553400|\n",
      "+------------+--------+\n",
      "\n"
     ]
    },
    {
     "name": "stderr",
     "output_type": "stream",
     "text": [
      "                                                                                \r"
     ]
    }
   ],
   "source": [
    "spark.sql(\"\"\"\n",
    "SELECT\n",
    "    service_type,\n",
    "    count(1)\n",
    "FROM\n",
    "    trips_data\n",
    "GROUP BY \n",
    "    service_type\n",
    "\"\"\").show()"
   ]
  },
  {
   "cell_type": "code",
   "execution_count": 23,
   "id": "b2ee7038",
   "metadata": {},
   "outputs": [],
   "source": [
    "df_result = spark.sql(\"\"\"\n",
    "SELECT \n",
    "    -- Reveneue grouping \n",
    "    PULocationID AS revenue_zone,\n",
    "    date_trunc('month', pickup_datetime) AS revenue_month, \n",
    "    service_type, \n",
    "\n",
    "    -- Revenue calculation \n",
    "    SUM(fare_amount) AS revenue_monthly_fare,\n",
    "    SUM(extra) AS revenue_monthly_extra,\n",
    "    SUM(mta_tax) AS revenue_monthly_mta_tax,\n",
    "    SUM(tip_amount) AS revenue_monthly_tip_amount,\n",
    "    SUM(tolls_amount) AS revenue_monthly_tolls_amount,\n",
    "    SUM(improvement_surcharge) AS revenue_monthly_improvement_surcharge,\n",
    "    SUM(total_amount) AS revenue_monthly_total_amount,\n",
    "    SUM(congestion_surcharge) AS revenue_monthly_congestion_surcharge,\n",
    "\n",
    "    -- Additional calculations\n",
    "    AVG(passenger_count) AS avg_montly_passenger_count,\n",
    "    AVG(trip_distance) AS avg_montly_trip_distance\n",
    "FROM\n",
    "    trips_data\n",
    "GROUP BY\n",
    "    1, 2, 3\n",
    "\"\"\")"
   ]
  },
  {
   "cell_type": "code",
   "execution_count": 24,
   "id": "2fadf537",
   "metadata": {},
   "outputs": [
    {
     "name": "stderr",
     "output_type": "stream",
     "text": [
      "[Stage 12:=====================================================>  (26 + 1) / 27]\r"
     ]
    },
    {
     "name": "stdout",
     "output_type": "stream",
     "text": [
      "+------------+-------------------+------------+--------------------+---------------------+-----------------------+--------------------------+----------------------------+-------------------------------------+----------------------------+------------------------------------+--------------------------+------------------------+\n",
      "|revenue_zone|      revenue_month|service_type|revenue_monthly_fare|revenue_monthly_extra|revenue_monthly_mta_tax|revenue_monthly_tip_amount|revenue_monthly_tolls_amount|revenue_monthly_improvement_surcharge|revenue_monthly_total_amount|revenue_monthly_congestion_surcharge|avg_montly_passenger_count|avg_montly_trip_distance|\n",
      "+------------+-------------------+------------+--------------------+---------------------+-----------------------+--------------------------+----------------------------+-------------------------------------+----------------------------+------------------------------------+--------------------------+------------------------+\n",
      "|          17|2019-12-01 00:00:00|       green|   983.3700000000001|                40.25|                   16.0|         64.03000000000002|                        6.12|                   14.400000000000013|                     1138.27|                                11.0|                    1.1875|       4.175208333333333|\n",
      "|          83|2019-12-01 00:00:00|       green|               357.5|                 16.5|                   17.0|        25.820000000000004|                        6.12|                   10.500000000000004|           436.1900000000002|                                2.75|                       1.2|      2.2560000000000002|\n",
      "|          74|2019-12-01 00:00:00|       green|             1346.91|                 81.5|                   61.5|                    108.97|                       12.24|                   38.999999999999986|          1700.7699999999973|                                60.5|        1.4193548387096775|      2.1740769230769224|\n",
      "|         247|2020-02-01 00:00:00|       green|  24094.800000000017|               1644.5|                  501.5|         495.0800000000001|           470.7800000000002|                    423.6000000000046|          27729.509999999867|                              101.75|        1.1794117647058824|       3.351523489932886|\n",
      "|         101|2020-02-01 00:00:00|       green|   5901.279999999997|                403.0|                   22.0|                     24.46|                      134.64|                   45.000000000000064|           6530.379999999997|                                8.25|         1.103448275862069|       9.839444444444446|\n",
      "|         101|2020-01-01 00:00:00|       green|   8442.769999999993|                460.5|                   38.0|        15.219999999999999|           232.5600000000001|                    70.19999999999969|            9259.25000000001|                                2.75|        1.0526315789473684|        9.11617760617761|\n",
      "|          25|2020-01-01 00:00:00|       green|  119044.23999999894|              6258.75|                 3408.5|         8842.890000000005|           851.8100000000005|                   2361.2999999999693|          142375.84000000276|                             1602.75|        1.2346514848438221|        3.15672403196066|\n",
      "|          63|2020-01-01 00:00:00|       green|  13863.800000000017|               817.75|                  105.5|                      3.56|          420.74000000000024|                    134.9999999999994|          15346.349999999999|                                 0.0|        1.0884955752212389|      6.2131683168316885|\n",
      "|         168|2019-12-01 00:00:00|       green|  250.92000000000002|                16.25|                    8.0|                      7.42|                         0.0|                    5.999999999999998|          288.59000000000003|                                 0.0|                    1.1875|      3.3199999999999994|\n",
      "|          78|2020-02-01 00:00:00|       green|   17947.90000000002|              1258.75|                  173.5|         70.30000000000001|           814.7500000000005|                   210.59999999999872|          20532.899999999972|                                22.0|        1.1578947368421053|       5.069813333333334|\n",
      "|         260|2020-02-01 00:00:00|       green|   80542.16000000003|              3387.75|                 3339.0|                   7026.67|           602.9200000000003|                   2086.7999999998665|           97533.35000000277|                              579.75|        1.5761158734850724|      2.5541491941235224|\n",
      "|         165|2020-01-01 00:00:00|       green|   24739.33999999998|              1546.25|                  189.5|        101.14999999999999|          495.95000000000033|                    268.2000000000044|           27361.13999999996|                                11.0|        1.1891891891891893|       4.468842815814858|\n",
      "|         248|2020-01-01 00:00:00|       green|  11921.150000000029|               818.25|                  113.0|                    105.84|           535.2400000000004|                    143.0999999999997|          13647.929999999995|                                 5.5|        1.1902439024390243|       4.653852889667251|\n",
      "|          79|2020-01-01 00:00:00|       green|  1758.4100000000005|               118.25|                    5.5|                       0.0|                       67.32|                    17.40000000000002|          1966.8800000000006|                                NULL|                      NULL|       6.290689655172415|\n",
      "|         239|2020-02-01 00:00:00|       green|             1586.21|                132.5|                    3.0|                       0.0|           82.35999999999999|                   14.399999999999995|          1818.4699999999998|                                 0.0|                       1.0|       9.194285714285716|\n",
      "|         130|2009-01-01 00:00:00|       green|                 9.0|                  0.5|                    0.5|                       0.0|                         0.0|                                  0.3|                        10.3|                                 0.0|                       1.0|                    2.04|\n",
      "|         202|2020-02-01 00:00:00|       green|  1339.7599999999998|               130.25|                    9.0|                      7.08|                       82.31|                   15.599999999999998|                      1589.5|                                 5.5|        1.0769230769230769|       5.690181818181819|\n",
      "|         161|2020-02-01 00:00:00|       green|  1973.2300000000005|               146.75|                    5.5|                       0.0|           70.11999999999999|                                 17.4|                      2213.0|                                 0.0|                       1.0|       8.073793103448276|\n",
      "|           7|2019-12-01 00:00:00|       green|              2783.0|               108.75|                  104.5|        243.60000000000002|          42.839999999999996|                    64.19999999999975|          3397.5400000000095|                                55.0|        1.5841121495327102|      3.3859345794392537|\n",
      "|         157|2020-01-01 00:00:00|       green|   9286.949999999997|                543.5|                  100.5|         239.9600000000001|           206.5600000000001|                   109.49999999999933|          10534.419999999995|                                49.5|        1.2925531914893618|        4.76078624078624|\n",
      "+------------+-------------------+------------+--------------------+---------------------+-----------------------+--------------------------+----------------------------+-------------------------------------+----------------------------+------------------------------------+--------------------------+------------------------+\n",
      "only showing top 20 rows\n",
      "\n"
     ]
    },
    {
     "name": "stderr",
     "output_type": "stream",
     "text": [
      "                                                                                \r"
     ]
    }
   ],
   "source": [
    "# Show the results of the SQL operation over here\n",
    "df_result.show()"
   ]
  },
  {
   "cell_type": "code",
   "execution_count": null,
   "id": "f67eeb92",
   "metadata": {},
   "outputs": [
    {
     "name": "stderr",
     "output_type": "stream",
     "text": [
      "                                                                                \r"
     ]
    }
   ],
   "source": [
    "df_result.coalesce(1).write.parquet('data/report/revenue/', mode='overwrite') # this is how to write Spark results to a data lake"
   ]
  },
  {
   "cell_type": "code",
   "execution_count": 28,
   "id": "9d112311",
   "metadata": {},
   "outputs": [],
   "source": [
    "spark.stop()"
   ]
  }
 ],
 "metadata": {
  "kernelspec": {
   "display_name": ".venv",
   "language": "python",
   "name": "python3"
  },
  "language_info": {
   "codemirror_mode": {
    "name": "ipython",
    "version": 3
   },
   "file_extension": ".py",
   "mimetype": "text/x-python",
   "name": "python",
   "nbconvert_exporter": "python",
   "pygments_lexer": "ipython3",
   "version": "3.9.6"
  }
 },
 "nbformat": 4,
 "nbformat_minor": 5
}
