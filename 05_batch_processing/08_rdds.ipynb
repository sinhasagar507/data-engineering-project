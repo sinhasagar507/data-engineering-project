{
 "cells": [
  {
   "cell_type": "code",
   "execution_count": 1,
   "id": "d66f42fd",
   "metadata": {},
   "outputs": [
    {
     "name": "stderr",
     "output_type": "stream",
     "text": [
      "25/01/30 12:57:19 WARN Utils: Your hostname, Sagars-MacBook-Pro.local resolves to a loopback address: 127.0.0.1; using 192.168.0.66 instead (on interface en0)\n",
      "25/01/30 12:57:19 WARN Utils: Set SPARK_LOCAL_IP if you need to bind to another address\n",
      "Setting default log level to \"WARN\".\n",
      "To adjust logging level use sc.setLogLevel(newLevel). For SparkR, use setLogLevel(newLevel).\n",
      "25/01/30 12:57:20 WARN NativeCodeLoader: Unable to load native-hadoop library for your platform... using builtin-java classes where applicable\n"
     ]
    }
   ],
   "source": [
    "import pyspark\n",
    "from pyspark.sql import SparkSession\n",
    "\n",
    "spark = SparkSession.builder \\\n",
    "    .master(\"local[*]\") \\\n",
    "    .appName('test') \\\n",
    "    .getOrCreate()"
   ]
  },
  {
   "cell_type": "code",
   "execution_count": 2,
   "id": "646fc343",
   "metadata": {},
   "outputs": [],
   "source": [
    "df_green = spark.read.parquet('data/pq/green/*/*')"
   ]
  },
  {
   "cell_type": "markdown",
   "id": "196cccd5",
   "metadata": {},
   "source": [
    "```\n",
    "SELECT \n",
    "    date_trunc('hour', lpep_pickup_datetime) AS hour, \n",
    "    PULocationID AS zone,\n",
    "\n",
    "    SUM(total_amount) AS amount,\n",
    "    COUNT(1) AS number_records\n",
    "FROM\n",
    "    green\n",
    "WHERE\n",
    "    lpep_pickup_datetime >= '2020-01-01 00:00:00'\n",
    "GROUP BY\n",
    "    1, 2\n",
    "```"
   ]
  },
  {
   "cell_type": "code",
   "execution_count": 4,
   "id": "e0204477",
   "metadata": {},
   "outputs": [
    {
     "name": "stdout",
     "output_type": "stream",
     "text": [
      "+--------+--------------------+---------------------+------------------+----------+------------+------------+---------------+-------------+-----------+-----+-------+----------+------------+---------+---------------------+------------+------------+---------+--------------------+\n",
      "|VendorID|lpep_pickup_datetime|lpep_dropoff_datetime|store_and_fwd_flag|RatecodeID|PULocationID|DOLocationID|passenger_count|trip_distance|fare_amount|extra|mta_tax|tip_amount|tolls_amount|ehail_fee|improvement_surcharge|total_amount|payment_type|trip_type|congestion_surcharge|\n",
      "+--------+--------------------+---------------------+------------------+----------+------------+------------+---------------+-------------+-----------+-----+-------+----------+------------+---------+---------------------+------------+------------+---------+--------------------+\n",
      "|       2| 2020-01-10 21:05:54|  2020-01-10 21:13:49|                 N|       1.0|         129|         129|            1.0|         0.81|        6.5|  0.5|    0.5|      0.71|         0.0|     NULL|                  0.3|        8.51|         1.0|      1.0|                 0.0|\n",
      "|       2| 2020-01-17 12:33:05|  2020-01-17 12:51:08|                 N|       1.0|          75|          42|            3.0|         2.69|       13.5|  1.0|    0.5|      3.06|         0.0|     NULL|                  0.3|       18.36|         1.0|      1.0|                 0.0|\n",
      "|       2| 2020-01-30 05:41:00|  2020-01-30 06:30:00|              NULL|      NULL|         117|         188|           NULL|        13.11|      38.57| 2.75|    0.0|       0.0|        2.29|     NULL|                  0.3|       43.91|        NULL|     NULL|                NULL|\n",
      "|       2| 2020-01-11 14:25:44|  2020-01-11 14:40:11|                 N|       1.0|          41|         151|            1.0|         2.13|       11.0|  0.5|    0.5|       0.0|         0.0|     NULL|                  0.3|        12.3|         2.0|      1.0|                 0.0|\n",
      "|       2| 2020-01-04 14:45:19|  2020-01-04 14:52:57|                 N|       1.0|         129|         260|            1.0|         0.89|        6.5|  0.5|    0.5|       0.0|         0.0|     NULL|                  0.3|         7.8|         2.0|      1.0|                 0.0|\n",
      "|       2| 2020-01-15 12:07:07|  2020-01-15 12:12:56|                 N|       1.0|          75|          75|            1.0|         0.88|        5.5|  1.0|    0.5|      1.46|         0.0|     NULL|                  0.3|        8.76|         1.0|      1.0|                 0.0|\n",
      "|       2| 2020-01-10 17:01:17|  2020-01-10 17:10:14|                 N|       1.0|          66|         232|            1.0|         2.25|        9.5|  0.5|    0.5|      2.71|         0.0|     NULL|                  0.3|       16.26|         1.0|      1.0|                2.75|\n",
      "|       2| 2020-01-16 07:54:30|  2020-01-16 08:00:39|                 N|       1.0|         129|         129|            2.0|         0.91|        6.0|  0.0|    0.5|       0.0|         0.0|     NULL|                  0.3|         6.8|         2.0|      1.0|                 0.0|\n",
      "|       2| 2020-01-01 12:53:32|  2020-01-01 13:05:59|                 N|       1.0|          41|         168|            5.0|         2.69|       11.0|  0.0|    0.5|       0.0|         0.0|     NULL|                  0.3|        11.8|         2.0|      1.0|                 0.0|\n",
      "|       2| 2020-01-20 23:53:00|  2020-01-21 00:24:00|              NULL|      NULL|          37|          33|           NULL|         5.35|      30.99| 2.75|    0.0|       0.0|         0.0|     NULL|                  0.3|       34.04|        NULL|     NULL|                NULL|\n",
      "|       2| 2020-01-19 05:18:31|  2020-01-19 05:23:29|                 N|       1.0|         129|         129|            1.0|         0.58|        5.0|  0.0|    0.5|       0.0|         0.0|     NULL|                  0.3|         5.8|         2.0|      1.0|                 0.0|\n",
      "|       2| 2020-01-12 03:38:00|  2020-01-12 03:56:00|              NULL|      NULL|          51|          60|           NULL|         7.83|      27.65| 2.75|    0.0|       0.0|         0.0|     NULL|                  0.3|        30.7|        NULL|     NULL|                NULL|\n",
      "|       1| 2020-01-04 06:39:34|  2020-01-04 06:43:59|                 N|       1.0|         255|         255|            1.0|          0.5|        5.0|  0.0|    0.5|       0.0|         0.0|     NULL|                  0.3|         5.8|         2.0|      1.0|                 0.0|\n",
      "|       1| 2020-01-27 07:50:40|  2020-01-27 07:56:26|                 N|       1.0|          95|          95|            1.0|          0.9|        6.0|  0.0|    0.5|      1.35|         0.0|     NULL|                  0.3|        8.15|         1.0|      1.0|                 0.0|\n",
      "|       2| 2020-01-20 01:41:00|  2020-01-20 02:25:00|              NULL|      NULL|          86|         140|           NULL|        23.88|      67.67| 2.75|    0.0|       0.0|        6.12|     NULL|                  0.3|       76.84|        NULL|     NULL|                NULL|\n",
      "|       2| 2020-01-07 06:39:00|  2020-01-07 06:52:00|              NULL|      NULL|          82|          56|           NULL|         1.96|      15.89| 2.75|    0.0|       0.0|         0.0|     NULL|                  0.3|       18.94|        NULL|     NULL|                NULL|\n",
      "|       1| 2020-01-25 03:04:57|  2020-01-25 03:12:57|                 N|       5.0|         182|         213|            1.0|          0.0|        8.0|  0.0|    0.0|       0.0|         0.0|     NULL|                  0.0|         8.0|         2.0|      2.0|                 0.0|\n",
      "|       2| 2020-01-03 09:29:05|  2020-01-03 09:39:03|                 N|       1.0|           7|         223|            1.0|         1.43|        8.5|  1.0|    0.5|       0.0|         0.0|     NULL|                  0.3|        10.3|         2.0|      1.0|                 0.0|\n",
      "|       2| 2020-01-09 16:33:28|  2020-01-09 16:38:47|                 N|       1.0|         255|         256|            1.0|         0.85|        5.5|  0.5|    0.5|       0.0|         0.0|     NULL|                  0.3|         6.8|         2.0|      1.0|                 0.0|\n",
      "|       2| 2020-01-03 16:16:25|  2020-01-03 16:30:25|                 N|       5.0|          69|         247|            1.0|         2.41|       15.0|  0.0|    0.0|       0.0|         0.0|     NULL|                  0.3|        15.3|         2.0|      2.0|                 0.0|\n",
      "+--------+--------------------+---------------------+------------------+----------+------------+------------+---------------+-------------+-----------+-----+-------+----------+------------+---------+---------------------+------------+------------+---------+--------------------+\n",
      "only showing top 20 rows\n",
      "\n"
     ]
    }
   ],
   "source": [
    "df_green.show()"
   ]
  },
  {
   "cell_type": "code",
   "execution_count": 5,
   "id": "74fe52cb",
   "metadata": {
    "scrolled": true
   },
   "outputs": [],
   "source": [
    "rdd = df_green \\\n",
    "    .select('lpep_pickup_datetime', 'PULocationID', 'total_amount') \\\n",
    "    .rdd"
   ]
  },
  {
   "cell_type": "code",
   "execution_count": 6,
   "id": "f9a23596",
   "metadata": {},
   "outputs": [
    {
     "data": {
      "text/plain": [
       "[Row(lpep_pickup_datetime=datetime.datetime(2020, 1, 10, 21, 5, 54), PULocationID=129, total_amount=8.51),\n",
       " Row(lpep_pickup_datetime=datetime.datetime(2020, 1, 17, 12, 33, 5), PULocationID=75, total_amount=18.36),\n",
       " Row(lpep_pickup_datetime=datetime.datetime(2020, 1, 30, 5, 41), PULocationID=117, total_amount=43.91),\n",
       " Row(lpep_pickup_datetime=datetime.datetime(2020, 1, 11, 14, 25, 44), PULocationID=41, total_amount=12.3),\n",
       " Row(lpep_pickup_datetime=datetime.datetime(2020, 1, 4, 14, 45, 19), PULocationID=129, total_amount=7.8)]"
      ]
     },
     "execution_count": 6,
     "metadata": {},
     "output_type": "execute_result"
    }
   ],
   "source": [
    "rdd.take(5)"
   ]
  },
  {
   "cell_type": "code",
   "execution_count": 11,
   "id": "dd9bf41a",
   "metadata": {},
   "outputs": [],
   "source": [
    "from datetime import datetime\n",
    "start = datetime(year=2021, month=4, day=2)\n",
    "\n",
    "def filter_outliers(row):\n",
    "    return row.lpep_pickup_datetime >= start"
   ]
  },
  {
   "cell_type": "code",
   "execution_count": 12,
   "id": "f6ad4e77",
   "metadata": {},
   "outputs": [
    {
     "name": "stderr",
     "output_type": "stream",
     "text": [
      "                                                                                \r"
     ]
    },
    {
     "data": {
      "text/plain": [
       "[Row(lpep_pickup_datetime=datetime.datetime(2021, 10, 30, 4, 55, 9), PULocationID=33, total_amount=25.86)]"
      ]
     },
     "execution_count": 12,
     "metadata": {},
     "output_type": "execute_result"
    }
   ],
   "source": [
    "rdd.filter(filter_outliers).take(1)"
   ]
  },
  {
   "cell_type": "code",
   "execution_count": 7,
   "id": "fd2372bb",
   "metadata": {},
   "outputs": [
    {
     "name": "stderr",
     "output_type": "stream",
     "text": [
      "                                                                                \r"
     ]
    },
    {
     "data": {
      "text/plain": [
       "[]"
      ]
     },
     "execution_count": 7,
     "metadata": {},
     "output_type": "execute_result"
    }
   ],
   "source": [
    "rdd.filter(lambda row: False).take(1)"
   ]
  },
  {
   "cell_type": "code",
   "execution_count": 13,
   "id": "1a0bf382",
   "metadata": {},
   "outputs": [],
   "source": [
    "from datetime import datetime"
   ]
  },
  {
   "cell_type": "code",
   "execution_count": 14,
   "id": "fa2b00f1",
   "metadata": {},
   "outputs": [],
   "source": [
    "start = datetime(year=2020, month=1, day=1)\n",
    "\n",
    "def filter_outliers(row):\n",
    "    return row.lpep_pickup_datetime >= start"
   ]
  },
  {
   "cell_type": "code",
   "execution_count": 15,
   "id": "69dd326d",
   "metadata": {},
   "outputs": [],
   "source": [
    "rows = rdd.take(10)\n",
    "row = rows[0]"
   ]
  },
  {
   "cell_type": "code",
   "execution_count": 16,
   "id": "cd4b7006",
   "metadata": {},
   "outputs": [
    {
     "data": {
      "text/plain": [
       "Row(lpep_pickup_datetime=datetime.datetime(2020, 1, 10, 21, 5, 54), PULocationID=129, total_amount=8.51)"
      ]
     },
     "execution_count": 16,
     "metadata": {},
     "output_type": "execute_result"
    }
   ],
   "source": [
    "row"
   ]
  },
  {
   "cell_type": "code",
   "execution_count": 17,
   "id": "d99eb089",
   "metadata": {},
   "outputs": [],
   "source": [
    "def prepare_for_grouping(row): \n",
    "    hour = row.lpep_pickup_datetime.replace(minute=0, second=0, microsecond=0)\n",
    "    zone = row.PULocationID\n",
    "    key = (hour, zone)\n",
    "    \n",
    "    amount = row.total_amount\n",
    "    count = 1\n",
    "    value = (amount, count)\n",
    "\n",
    "    return (key, value)"
   ]
  },
  {
   "cell_type": "code",
   "execution_count": 25,
   "id": "82b7a996",
   "metadata": {},
   "outputs": [
    {
     "data": {
      "text/plain": [
       "[((datetime.datetime(2020, 1, 10, 21, 0), 129), (8.51, 1)),\n",
       " ((datetime.datetime(2020, 1, 17, 12, 0), 75), (18.36, 1)),\n",
       " ((datetime.datetime(2020, 1, 30, 5, 0), 117), (43.91, 1)),\n",
       " ((datetime.datetime(2020, 1, 11, 14, 0), 41), (12.3, 1)),\n",
       " ((datetime.datetime(2020, 1, 4, 14, 0), 129), (7.8, 1)),\n",
       " ((datetime.datetime(2020, 1, 15, 12, 0), 75), (8.76, 1)),\n",
       " ((datetime.datetime(2020, 1, 10, 17, 0), 66), (16.26, 1)),\n",
       " ((datetime.datetime(2020, 1, 16, 7, 0), 129), (6.8, 1)),\n",
       " ((datetime.datetime(2020, 1, 1, 12, 0), 41), (11.8, 1)),\n",
       " ((datetime.datetime(2020, 1, 20, 23, 0), 37), (34.04, 1)),\n",
       " ((datetime.datetime(2020, 1, 19, 5, 0), 129), (5.8, 1)),\n",
       " ((datetime.datetime(2020, 1, 12, 3, 0), 51), (30.7, 1)),\n",
       " ((datetime.datetime(2020, 1, 4, 6, 0), 255), (5.8, 1)),\n",
       " ((datetime.datetime(2020, 1, 27, 7, 0), 95), (8.15, 1)),\n",
       " ((datetime.datetime(2020, 1, 20, 1, 0), 86), (76.84, 1)),\n",
       " ((datetime.datetime(2020, 1, 7, 6, 0), 82), (18.94, 1)),\n",
       " ((datetime.datetime(2020, 1, 25, 3, 0), 182), (8.0, 1)),\n",
       " ((datetime.datetime(2020, 1, 3, 9, 0), 7), (10.3, 1)),\n",
       " ((datetime.datetime(2020, 1, 9, 16, 0), 255), (6.8, 1)),\n",
       " ((datetime.datetime(2020, 1, 3, 16, 0), 69), (15.3, 1)),\n",
       " ((datetime.datetime(2020, 1, 24, 1, 0), 59), (23.58, 1)),\n",
       " ((datetime.datetime(2020, 1, 18, 14, 0), 97), (8.3, 1)),\n",
       " ((datetime.datetime(2020, 1, 15, 12, 0), 74), (19.2, 1)),\n",
       " ((datetime.datetime(2020, 1, 23, 14, 0), 121), (48.25, 1)),\n",
       " ((datetime.datetime(2020, 1, 6, 10, 0), 82), (19.31, 1)),\n",
       " ((datetime.datetime(2020, 1, 15, 6, 0), 39), (26.84, 1)),\n",
       " ((datetime.datetime(2020, 1, 20, 6, 0), 49), (7.8, 1)),\n",
       " ((datetime.datetime(2020, 1, 13, 4, 0), 91), (26.84, 1)),\n",
       " ((datetime.datetime(2020, 1, 2, 17, 0), 41), (29.03, 1)),\n",
       " ((datetime.datetime(2020, 1, 20, 8, 0), 155), (39.35, 1)),\n",
       " ((datetime.datetime(2020, 1, 15, 17, 0), 223), (6.67, 1)),\n",
       " ((datetime.datetime(2020, 1, 20, 16, 0), 41), (29.9, 1)),\n",
       " ((datetime.datetime(2020, 1, 8, 7, 0), 135), (29.0, 1)),\n",
       " ((datetime.datetime(2020, 1, 22, 4, 0), 38), (21.63, 1)),\n",
       " ((datetime.datetime(2020, 1, 4, 6, 0), 41), (33.81, 1)),\n",
       " ((datetime.datetime(2020, 1, 25, 10, 0), 97), (19.24, 1)),\n",
       " ((datetime.datetime(2020, 1, 10, 13, 0), 181), (18.96, 1)),\n",
       " ((datetime.datetime(2020, 1, 3, 11, 0), 43), (8.16, 1)),\n",
       " ((datetime.datetime(2020, 1, 16, 9, 0), 159), (13.3, 1)),\n",
       " ((datetime.datetime(2020, 1, 15, 8, 0), 130), (25.8, 1)),\n",
       " ((datetime.datetime(2020, 1, 27, 12, 0), 82), (10.8, 1)),\n",
       " ((datetime.datetime(2020, 1, 25, 10, 0), 189), (12.05, 1)),\n",
       " ((datetime.datetime(2020, 1, 23, 9, 0), 7), (7.3, 1)),\n",
       " ((datetime.datetime(2020, 1, 23, 10, 0), 75), (21.66, 1)),\n",
       " ((datetime.datetime(2020, 1, 8, 6, 0), 192), (28.41, 1)),\n",
       " ((datetime.datetime(2020, 1, 13, 1, 0), 41), (9.13, 1)),\n",
       " ((datetime.datetime(2020, 1, 8, 12, 0), 75), (13.86, 1)),\n",
       " ((datetime.datetime(2020, 1, 20, 1, 0), 75), (15.55, 1)),\n",
       " ((datetime.datetime(2020, 1, 24, 10, 0), 41), (7.8, 1)),\n",
       " ((datetime.datetime(2020, 1, 13, 22, 0), 7), (6.8, 1))]"
      ]
     },
     "execution_count": 25,
     "metadata": {},
     "output_type": "execute_result"
    }
   ],
   "source": [
    "rdd \\\n",
    "    .filter(filter_outliers) \\\n",
    "    .map(prepare_for_grouping) \\\n",
    "    .take(50)"
   ]
  },
  {
   "cell_type": "code",
   "execution_count": 18,
   "id": "cb328a44",
   "metadata": {},
   "outputs": [],
   "source": [
    "def calculate_revenue(left_value, right_value):\n",
    "    left_amount, left_count = left_value\n",
    "    right_amount, right_count = right_value\n",
    "    \n",
    "    output_amount = left_amount + right_amount\n",
    "    output_count = left_count + right_count\n",
    "    \n",
    "    return (output_amount, output_count)"
   ]
  },
  {
   "cell_type": "code",
   "execution_count": 24,
   "id": "3f58158f",
   "metadata": {},
   "outputs": [
    {
     "name": "stderr",
     "output_type": "stream",
     "text": [
      "                                                                                \r"
     ]
    },
    {
     "data": {
      "text/plain": [
       "[((datetime.datetime(2020, 1, 10, 21, 0), 129), (317.58000000000015, 19)),\n",
       " ((datetime.datetime(2020, 1, 4, 14, 0), 129), (471.95000000000016, 34)),\n",
       " ((datetime.datetime(2020, 1, 20, 23, 0), 37), (86.45, 3)),\n",
       " ((datetime.datetime(2020, 1, 19, 5, 0), 129), (132.72, 10)),\n",
       " ((datetime.datetime(2020, 1, 4, 6, 0), 255), (55.2, 4)),\n",
       " ((datetime.datetime(2020, 1, 13, 4, 0), 91), (169.14000000000001, 7)),\n",
       " ((datetime.datetime(2020, 1, 17, 16, 0), 25), (271.84000000000003, 19)),\n",
       " ((datetime.datetime(2020, 1, 13, 4, 0), 76), (164.59, 6)),\n",
       " ((datetime.datetime(2020, 1, 2, 1, 0), 85), (77.19999999999999, 3)),\n",
       " ((datetime.datetime(2020, 1, 3, 12, 0), 181), (171.49, 15))]"
      ]
     },
     "execution_count": 24,
     "metadata": {},
     "output_type": "execute_result"
    }
   ],
   "source": [
    "rdd \\\n",
    "    .filter(filter_outliers) \\\n",
    "    .map(prepare_for_grouping) \\\n",
    "    .reduceByKey(calculate_revenue) \\\n",
    "    .take(10)"
   ]
  },
  {
   "cell_type": "code",
   "execution_count": 23,
   "id": "2ea260f1",
   "metadata": {},
   "outputs": [],
   "source": [
    "from collections import namedtuple"
   ]
  },
  {
   "cell_type": "code",
   "execution_count": 21,
   "id": "7dae6064",
   "metadata": {},
   "outputs": [],
   "source": [
    "RevenueRow = namedtuple('RevenueRow', ['hour', 'zone', 'revenue', 'count'])"
   ]
  },
  {
   "cell_type": "code",
   "execution_count": 29,
   "id": "e0a98ee4",
   "metadata": {},
   "outputs": [],
   "source": [
    "def unwrap(row):\n",
    "    return RevenueRow(\n",
    "        hour=row[0][0], \n",
    "        zone=row[0][1],\n",
    "        revenue=row[1][0],\n",
    "        count=row[1][1]\n",
    "    )"
   ]
  },
  {
   "cell_type": "code",
   "execution_count": 30,
   "id": "a09200b8",
   "metadata": {},
   "outputs": [],
   "source": [
    "from pyspark.sql import types"
   ]
  },
  {
   "cell_type": "code",
   "execution_count": 33,
   "id": "5c14d15e",
   "metadata": {},
   "outputs": [],
   "source": [
    "result_schema = types.StructType([\n",
    "    types.StructField('hour', types.TimestampType(), True),\n",
    "    types.StructField('zone', types.IntegerType(), True),\n",
    "    types.StructField('revenue', types.DoubleType(), True),\n",
    "    types.StructField('count', types.IntegerType(), True)\n",
    "])"
   ]
  },
  {
   "cell_type": "code",
   "execution_count": 37,
   "id": "56ea72ff",
   "metadata": {},
   "outputs": [],
   "source": [
    "df_result = rdd \\\n",
    "    .filter(filter_outliers) \\\n",
    "    .map(prepare_for_grouping) \\\n",
    "    .reduceByKey(calculate_revenue) \\\n",
    "    .map(unwrap) \\\n",
    "    .toDF(result_schema)"
   ]
  },
  {
   "cell_type": "code",
   "execution_count": 39,
   "id": "4675bd3f",
   "metadata": {},
   "outputs": [
    {
     "name": "stderr",
     "output_type": "stream",
     "text": [
      "25/01/30 14:27:13 WARN MemoryManager: Total allocation exceeds 95.00% (1,020,054,720 bytes) of heap memory\n",
      "Scaling row group sizes to 95.00% for 8 writers\n",
      "25/01/30 14:27:13 WARN MemoryManager: Total allocation exceeds 95.00% (1,020,054,720 bytes) of heap memory\n",
      "Scaling row group sizes to 84.44% for 9 writers\n",
      "25/01/30 14:27:13 WARN MemoryManager: Total allocation exceeds 95.00% (1,020,054,720 bytes) of heap memory\n",
      "Scaling row group sizes to 76.00% for 10 writers\n",
      "25/01/30 14:27:13 WARN MemoryManager: Total allocation exceeds 95.00% (1,020,054,720 bytes) of heap memory\n",
      "Scaling row group sizes to 69.09% for 11 writers\n",
      "25/01/30 14:27:27 WARN MemoryManager: Total allocation exceeds 95.00% (1,020,054,720 bytes) of heap memory\n",
      "Scaling row group sizes to 76.00% for 10 writers\n",
      "25/01/30 14:27:27 WARN MemoryManager: Total allocation exceeds 95.00% (1,020,054,720 bytes) of heap memory\n",
      "Scaling row group sizes to 84.44% for 9 writers\n",
      "25/01/30 14:27:27 WARN MemoryManager: Total allocation exceeds 95.00% (1,020,054,720 bytes) of heap memory\n",
      "Scaling row group sizes to 76.00% for 10 writers\n",
      "25/01/30 14:27:27 WARN MemoryManager: Total allocation exceeds 95.00% (1,020,054,720 bytes) of heap memory\n",
      "Scaling row group sizes to 84.44% for 9 writers\n",
      "25/01/30 14:27:27 WARN MemoryManager: Total allocation exceeds 95.00% (1,020,054,720 bytes) of heap memory\n",
      "Scaling row group sizes to 95.00% for 8 writers\n",
      "25/01/30 14:27:28 WARN MemoryManager: Total allocation exceeds 95.00% (1,020,054,720 bytes) of heap memory\n",
      "Scaling row group sizes to 95.00% for 8 writers\n",
      "25/01/30 14:27:28 WARN MemoryManager: Total allocation exceeds 95.00% (1,020,054,720 bytes) of heap memory\n",
      "Scaling row group sizes to 84.44% for 9 writers\n",
      "25/01/30 14:27:28 WARN MemoryManager: Total allocation exceeds 95.00% (1,020,054,720 bytes) of heap memory\n",
      "Scaling row group sizes to 76.00% for 10 writers\n",
      "25/01/30 14:27:28 WARN MemoryManager: Total allocation exceeds 95.00% (1,020,054,720 bytes) of heap memory\n",
      "Scaling row group sizes to 69.09% for 11 writers\n",
      "25/01/30 14:27:41 WARN MemoryManager: Total allocation exceeds 95.00% (1,020,054,720 bytes) of heap memory\n",
      "Scaling row group sizes to 76.00% for 10 writers\n",
      "25/01/30 14:27:41 WARN MemoryManager: Total allocation exceeds 95.00% (1,020,054,720 bytes) of heap memory\n",
      "Scaling row group sizes to 84.44% for 9 writers\n",
      "25/01/30 14:27:41 WARN MemoryManager: Total allocation exceeds 95.00% (1,020,054,720 bytes) of heap memory\n",
      "Scaling row group sizes to 95.00% for 8 writers\n",
      "                                                                                \r"
     ]
    }
   ],
   "source": [
    "df_result.write.parquet('data/tmp/green-revenue', mode='overwrite')"
   ]
  },
  {
   "cell_type": "code",
   "execution_count": 44,
   "id": "255b5503",
   "metadata": {},
   "outputs": [],
   "source": [
    "columns = ['VendorID', 'lpep_pickup_datetime', 'PULocationID', 'DOLocationID', 'trip_distance']\n",
    "\n",
    "duration_rdd = df_green \\\n",
    "    .select(columns) \\\n",
    "    .rdd"
   ]
  },
  {
   "cell_type": "code",
   "execution_count": 45,
   "id": "645c3190",
   "metadata": {},
   "outputs": [],
   "source": [
    "import pandas as pd"
   ]
  },
  {
   "cell_type": "code",
   "execution_count": 46,
   "id": "921e4ef9",
   "metadata": {},
   "outputs": [],
   "source": [
    "rows = duration_rdd.take(10)"
   ]
  },
  {
   "cell_type": "code",
   "execution_count": 47,
   "id": "f50db3eb",
   "metadata": {},
   "outputs": [],
   "source": [
    "df = pd.DataFrame(rows, columns=columns)"
   ]
  },
  {
   "cell_type": "code",
   "execution_count": 48,
   "id": "5b8ecc53",
   "metadata": {},
   "outputs": [
    {
     "data": {
      "text/plain": [
       "['VendorID',\n",
       " 'lpep_pickup_datetime',\n",
       " 'PULocationID',\n",
       " 'DOLocationID',\n",
       " 'trip_distance']"
      ]
     },
     "execution_count": 48,
     "metadata": {},
     "output_type": "execute_result"
    }
   ],
   "source": [
    "columns"
   ]
  },
  {
   "cell_type": "code",
   "execution_count": 51,
   "id": "6766c0f8",
   "metadata": {},
   "outputs": [],
   "source": [
    "#model = ...\n",
    "\n",
    "def model_predict(df):\n",
    "    #y_pred = model.predict(df)\n",
    "    y_pred = df.trip_distance * 5\n",
    "    return y_pred"
   ]
  },
  {
   "cell_type": "code",
   "execution_count": 55,
   "id": "e949d549",
   "metadata": {},
   "outputs": [
    {
     "name": "stderr",
     "output_type": "stream",
     "text": [
      "                                                                                \r"
     ]
    }
   ],
   "source": [
    "import pandas as pd\n",
    "rows = duration_rdd.take(10)"
   ]
  },
  {
   "cell_type": "code",
   "execution_count": 57,
   "id": "7437b848",
   "metadata": {},
   "outputs": [],
   "source": [
    "def apply_model_in_batch(rows):\n",
    "    df = pd.DataFrame(rows, columns=columns)\n",
    "    predictions = model_predict(df)\n",
    "    df['predicted_duration'] = predictions\n",
    "\n",
    "    for row in df.itertuples():\n",
    "        yield row"
   ]
  },
  {
   "cell_type": "code",
   "execution_count": 59,
   "id": "355d6ac2",
   "metadata": {},
   "outputs": [
    {
     "name": "stderr",
     "output_type": "stream",
     "text": [
      "                                                                                \r"
     ]
    },
    {
     "data": {
      "text/plain": [
       "[Row(Index=0, VendorID=2, lpep_pickup_datetime=Row(), PULocationID=129, DOLocationID=129, trip_distance=0.81, predicted_duration=4.050000000000001),\n",
       " Row(Index=1, VendorID=2, lpep_pickup_datetime=Row(), PULocationID=75, DOLocationID=42, trip_distance=2.69, predicted_duration=13.45),\n",
       " Row(Index=2, VendorID=2, lpep_pickup_datetime=Row(), PULocationID=117, DOLocationID=188, trip_distance=13.11, predicted_duration=65.55),\n",
       " Row(Index=3, VendorID=2, lpep_pickup_datetime=Row(), PULocationID=41, DOLocationID=151, trip_distance=2.13, predicted_duration=10.649999999999999),\n",
       " Row(Index=4, VendorID=2, lpep_pickup_datetime=Row(), PULocationID=129, DOLocationID=260, trip_distance=0.89, predicted_duration=4.45),\n",
       " Row(Index=5, VendorID=2, lpep_pickup_datetime=Row(), PULocationID=75, DOLocationID=75, trip_distance=0.88, predicted_duration=4.4),\n",
       " Row(Index=6, VendorID=2, lpep_pickup_datetime=Row(), PULocationID=66, DOLocationID=232, trip_distance=2.25, predicted_duration=11.25),\n",
       " Row(Index=7, VendorID=2, lpep_pickup_datetime=Row(), PULocationID=129, DOLocationID=129, trip_distance=0.91, predicted_duration=4.55),\n",
       " Row(Index=8, VendorID=2, lpep_pickup_datetime=Row(), PULocationID=41, DOLocationID=168, trip_distance=2.69, predicted_duration=13.45),\n",
       " Row(Index=9, VendorID=2, lpep_pickup_datetime=Row(), PULocationID=37, DOLocationID=33, trip_distance=5.35, predicted_duration=26.75)]"
      ]
     },
     "execution_count": 59,
     "metadata": {},
     "output_type": "execute_result"
    }
   ],
   "source": [
    "duration_rdd.mapPartitions(apply_model_in_batch).toDF().take(10)"
   ]
  },
  {
   "cell_type": "code",
   "execution_count": 60,
   "id": "580b5845",
   "metadata": {},
   "outputs": [
    {
     "name": "stderr",
     "output_type": "stream",
     "text": [
      "                                                                                \r"
     ]
    }
   ],
   "source": [
    "df_predicts = duration_rdd \\\n",
    "    .mapPartitions(apply_model_in_batch)\\\n",
    "    .toDF() \\\n",
    "    .drop('Index')"
   ]
  },
  {
   "cell_type": "code",
   "execution_count": 61,
   "id": "6055d543",
   "metadata": {},
   "outputs": [
    {
     "name": "stderr",
     "output_type": "stream",
     "text": [
      "[Stage 32:>                                                         (0 + 1) / 1]\r"
     ]
    },
    {
     "name": "stdout",
     "output_type": "stream",
     "text": [
      "+------------------+\n",
      "|predicted_duration|\n",
      "+------------------+\n",
      "| 4.050000000000001|\n",
      "|             13.45|\n",
      "|             65.55|\n",
      "|10.649999999999999|\n",
      "|              4.45|\n",
      "|               4.4|\n",
      "|             11.25|\n",
      "|              4.55|\n",
      "|             13.45|\n",
      "|             26.75|\n",
      "|               2.9|\n",
      "|             39.15|\n",
      "|               2.5|\n",
      "|               4.5|\n",
      "|119.39999999999999|\n",
      "|               9.8|\n",
      "|               0.0|\n",
      "|7.1499999999999995|\n",
      "|              4.25|\n",
      "|             12.05|\n",
      "+------------------+\n",
      "only showing top 20 rows\n",
      "\n"
     ]
    },
    {
     "name": "stderr",
     "output_type": "stream",
     "text": [
      "                                                                                \r"
     ]
    }
   ],
   "source": [
    "df_predicts.select('predicted_duration').show()"
   ]
  }
 ],
 "metadata": {
  "kernelspec": {
   "display_name": ".venv",
   "language": "python",
   "name": "python3"
  },
  "language_info": {
   "codemirror_mode": {
    "name": "ipython",
    "version": 3
   },
   "file_extension": ".py",
   "mimetype": "text/x-python",
   "name": "python",
   "nbconvert_exporter": "python",
   "pygments_lexer": "ipython3",
   "version": "3.9.6"
  }
 },
 "nbformat": 4,
 "nbformat_minor": 5
}
