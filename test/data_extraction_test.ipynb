{
 "cells": [
  {
   "cell_type": "code",
   "execution_count": 2,
   "id": "832a7645",
   "metadata": {},
   "outputs": [
    {
     "name": "stdout",
     "output_type": "stream",
     "text": [
      "  % Total    % Received % Xferd  Average Speed   Time    Time     Time  Current\n",
      "                                 Dload  Upload   Total   Spent    Left  Speed\n",
      "100  149M  100  149M    0     0  13.0M      0  0:00:11  0:00:11 --:--:-- 14.0M 0:00:03  0:00:11 10.1M\n"
     ]
    }
   ],
   "source": [
    "!curl -L -o yellow_tripdata_2015-09.parquet https://d37ci6vzurychx.cloudfront.net/trip-data/yellow_tripdata_2015-09.parquet"
   ]
  },
  {
   "cell_type": "code",
   "execution_count": 3,
   "id": "5e79d2c3",
   "metadata": {},
   "outputs": [
    {
     "name": "stdout",
     "output_type": "stream",
     "text": [
      "File size: 149.16 MB\n"
     ]
    }
   ],
   "source": [
    "import pandas as pd\n",
    "import os\n",
    "# Get file size in bytes\n",
    "file_size_bytes = os.path.getsize('yellow_tripdata_2015-09.parquet')\n",
    "\n",
    "# Convert to MB or readable format\n",
    "file_size_mb = file_size_bytes / (1024 * 1024)\n",
    "print(f\"File size: {file_size_mb:.2f} MB\")"
   ]
  }
 ],
 "metadata": {
  "kernelspec": {
   "display_name": ".venv",
   "language": "python",
   "name": "python3"
  },
  "language_info": {
   "codemirror_mode": {
    "name": "ipython",
    "version": 3
   },
   "file_extension": ".py",
   "mimetype": "text/x-python",
   "name": "python",
   "nbconvert_exporter": "python",
   "pygments_lexer": "ipython3",
   "version": "3.9.6"
  }
 },
 "nbformat": 4,
 "nbformat_minor": 5
}
